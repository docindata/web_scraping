{
 "cells": [
  {
   "cell_type": "code",
   "execution_count": 1,
   "metadata": {},
   "outputs": [],
   "source": [
    "import os\n",
    "from typing import Iterable, Union\n",
    "from itertools import product\n",
    "from numpy import add, multiply\n",
    "import pandas as pd\n",
    "import serpapi\n",
    "from serpapi import GoogleSearch"
   ]
  },
  {
   "cell_type": "code",
   "execution_count": 2,
   "metadata": {},
   "outputs": [],
   "source": [
    "starting_latitude: float = 57.685\n",
    "starting_longtitde: float = 11.905\n",
    "\n",
    "increment_lat: float = 0.01\n",
    "increment_long: float = 0.04\n",
    "\n",
    "\n",
    "def addition_loop(\n",
    "    start_value: float, increment: float, add_n_elements: int\n",
    ") -> list[float]:\n",
    "    \"\"\"Function to add the needed increments to the cooridnates\n",
    "\n",
    "    Args:\n",
    "        start_value (float): start value for lat or long\n",
    "        increment (float): The amount to increase with\n",
    "        add_n_element (int): Number of additional elements required\n",
    "\n",
    "    Returns:\n",
    "        list[float]: List with the coordiates\n",
    "    \"\"\"\n",
    "    empty_list: list[float] = [start_value]\n",
    "    for ind in range(add_n_elements):\n",
    "        element = round(add(start_value, (multiply(increment, (add(ind, 1))))), 3)\n",
    "        empty_list.append(element)\n",
    "    return empty_list\n",
    "\n",
    "\n",
    "lat_list: list[float] = addition_loop(starting_latitude, increment_lat, 3)\n",
    "long_list: list[float] = addition_loop(starting_longtitde, increment_long, 3)"
   ]
  },
  {
   "cell_type": "code",
   "execution_count": 3,
   "metadata": {},
   "outputs": [
    {
     "name": "stdout",
     "output_type": "stream",
     "text": [
      "[57.685, 57.695, 57.705, 57.715]\n",
      "[11.905, 11.945, 11.985, 12.025]\n"
     ]
    }
   ],
   "source": [
    "print(lat_list)\n",
    "print(long_list)"
   ]
  },
  {
   "cell_type": "code",
   "execution_count": 4,
   "metadata": {},
   "outputs": [],
   "source": [
    "# Let's create tuples with lat,long values\n",
    "combos_coord: Iterable = product(lat_list, long_list)\n",
    "combos_coord_list: list[tuple[float, ...]] = list(combos_coord)"
   ]
  },
  {
   "cell_type": "code",
   "execution_count": 5,
   "metadata": {},
   "outputs": [
    {
     "name": "stdout",
     "output_type": "stream",
     "text": [
      "[(57.685, 11.905), (57.685, 11.945), (57.685, 11.985), (57.685, 12.025), (57.695, 11.905), (57.695, 11.945), (57.695, 11.985), (57.695, 12.025), (57.705, 11.905), (57.705, 11.945), (57.705, 11.985), (57.705, 12.025), (57.715, 11.905), (57.715, 11.945), (57.715, 11.985), (57.715, 12.025)]\n"
     ]
    }
   ],
   "source": [
    "print(combos_coord_list)"
   ]
  },
  {
   "cell_type": "code",
   "execution_count": 6,
   "metadata": {},
   "outputs": [
    {
     "name": "stdout",
     "output_type": "stream",
     "text": [
      "We'll search across 16 grids in Google maps in Göteborg, Sweden\n"
     ]
    }
   ],
   "source": [
    "print(f\"We'll search across {len(combos_coord_list)} grids in Google maps in Göteborg, Sweden\")"
   ]
  },
  {
   "cell_type": "code",
   "execution_count": 13,
   "metadata": {},
   "outputs": [],
   "source": [
    "params: dict[str, Union[str, int]] = {\n",
    "    \"api_key\": os.getenv(\"SERP_API_KEY\"),\n",
    "    \"device\": \"desktop\",\n",
    "    \"engine\": \"google_maps\",\n",
    "    \"type\": \"search\",\n",
    "    \"google_domain\": \"google.se\",\n",
    "    \"q\": \"Retauranger göteborg\",\n",
    "    \"hl\": \"sv\",\n",
    "    \"ll\": \"@57.685,11.905,16z\", # This is what we'll modify in the loops below\n",
    "    \"gl\": \"se\",\n",
    "    \"start\": 0, # As well as this\n",
    "}"
   ]
  },
  {
   "cell_type": "code",
   "execution_count": 14,
   "metadata": {},
   "outputs": [
    {
     "data": {
      "text/plain": [
       "{'api_key': '558eaada5daf3e922befa697a766112b5618cea63d0c00eac0ba8450415ee399',\n",
       " 'device': 'desktop',\n",
       " 'engine': 'google_maps',\n",
       " 'type': 'search',\n",
       " 'google_domain': 'google.se',\n",
       " 'q': 'Retauranger göteborg',\n",
       " 'hl': 'sv',\n",
       " 'll': '@57.685,11.905,16z',\n",
       " 'gl': 'se',\n",
       " 'start': 0}"
      ]
     },
     "execution_count": 14,
     "metadata": {},
     "output_type": "execute_result"
    }
   ],
   "source": [
    "params"
   ]
  },
  {
   "cell_type": "code",
   "execution_count": 15,
   "metadata": {},
   "outputs": [
    {
     "name": "stdout",
     "output_type": "stream",
     "text": [
      "https://serpapi.com/search\n"
     ]
    }
   ],
   "source": [
    "# Don't delete....!!\n",
    "search = GoogleSearch(params)\n",
    "results = search.get_dict()"
   ]
  },
  {
   "cell_type": "code",
   "execution_count": 19,
   "metadata": {},
   "outputs": [
    {
     "data": {
      "text/plain": [
       "dict_keys(['search_metadata', 'search_parameters', 'search_information', 'local_results', 'serpapi_pagination'])"
      ]
     },
     "execution_count": 19,
     "metadata": {},
     "output_type": "execute_result"
    }
   ],
   "source": [
    "results.keys()"
   ]
  },
  {
   "cell_type": "code",
   "execution_count": 20,
   "metadata": {},
   "outputs": [
    {
     "data": {
      "text/plain": [
       "{'next': 'https://serpapi.com/search.json?engine=google_maps&google_domain=google.se&hl=sv&ll=%4057.685%2C11.905%2C16z&q=Retauranger+g%C3%B6teborg&start=20&type=search'}"
      ]
     },
     "execution_count": 20,
     "metadata": {},
     "output_type": "execute_result"
    }
   ],
   "source": [
    "results.get('serpapi_pagination')"
   ]
  },
  {
   "cell_type": "code",
   "execution_count": 21,
   "metadata": {},
   "outputs": [
    {
     "data": {
      "text/plain": [
       "True"
      ]
     },
     "execution_count": 21,
     "metadata": {},
     "output_type": "execute_result"
    }
   ],
   "source": [
    "\"serpapi_pagination\" in results and \"next\" in results[\n",
    "    \"serpapi_pagination\"\n",
    "] and \"local_results\" in results and results.get(\"local_results\") is not None"
   ]
  },
  {
   "cell_type": "code",
   "execution_count": 26,
   "metadata": {},
   "outputs": [
    {
     "name": "stdout",
     "output_type": "stream",
     "text": [
      "Running grid: 1\n",
      "page: 0\n",
      "https://serpapi.com/search\n",
      "https://serpapi.com/search\n",
      "page: 1\n",
      "https://serpapi.com/search\n",
      "https://serpapi.com/search\n",
      "page: 2\n",
      "https://serpapi.com/search\n",
      "https://serpapi.com/search\n",
      "page: 3\n",
      "https://serpapi.com/search\n",
      "https://serpapi.com/search\n",
      "page: 4\n",
      "https://serpapi.com/search\n",
      "https://serpapi.com/search\n",
      "page: 5\n",
      "https://serpapi.com/search\n",
      "https://serpapi.com/search\n",
      "Running grid: 2\n",
      "page: 0\n",
      "https://serpapi.com/search\n",
      "https://serpapi.com/search\n",
      "page: 1\n",
      "https://serpapi.com/search\n",
      "https://serpapi.com/search\n",
      "page: 2\n",
      "https://serpapi.com/search\n",
      "https://serpapi.com/search\n",
      "page: 3\n",
      "https://serpapi.com/search\n",
      "https://serpapi.com/search\n",
      "page: 4\n",
      "https://serpapi.com/search\n",
      "https://serpapi.com/search\n",
      "page: 5\n",
      "https://serpapi.com/search\n",
      "https://serpapi.com/search\n",
      "Running grid: 3\n",
      "page: 0\n",
      "https://serpapi.com/search\n",
      "https://serpapi.com/search\n",
      "page: 1\n",
      "https://serpapi.com/search\n",
      "https://serpapi.com/search\n",
      "page: 2\n",
      "https://serpapi.com/search\n",
      "https://serpapi.com/search\n",
      "page: 3\n",
      "https://serpapi.com/search\n",
      "https://serpapi.com/search\n",
      "page: 4\n",
      "https://serpapi.com/search\n",
      "https://serpapi.com/search\n",
      "page: 5\n",
      "https://serpapi.com/search\n",
      "https://serpapi.com/search\n",
      "Running grid: 4\n",
      "page: 0\n",
      "https://serpapi.com/search\n",
      "https://serpapi.com/search\n",
      "page: 1\n",
      "https://serpapi.com/search\n",
      "https://serpapi.com/search\n",
      "page: 2\n",
      "https://serpapi.com/search\n",
      "https://serpapi.com/search\n",
      "page: 3\n",
      "https://serpapi.com/search\n",
      "https://serpapi.com/search\n",
      "page: 4\n",
      "https://serpapi.com/search\n",
      "https://serpapi.com/search\n",
      "page: 5\n",
      "https://serpapi.com/search\n",
      "https://serpapi.com/search\n",
      "Running grid: 5\n",
      "page: 0\n",
      "https://serpapi.com/search\n",
      "https://serpapi.com/search\n",
      "page: 1\n",
      "https://serpapi.com/search\n",
      "https://serpapi.com/search\n",
      "page: 2\n",
      "https://serpapi.com/search\n",
      "https://serpapi.com/search\n",
      "page: 3\n",
      "https://serpapi.com/search\n",
      "https://serpapi.com/search\n",
      "page: 4\n",
      "https://serpapi.com/search\n",
      "https://serpapi.com/search\n",
      "page: 5\n",
      "https://serpapi.com/search\n",
      "https://serpapi.com/search\n",
      "Running grid: 6\n",
      "page: 0\n",
      "https://serpapi.com/search\n",
      "https://serpapi.com/search\n",
      "page: 1\n",
      "https://serpapi.com/search\n",
      "https://serpapi.com/search\n",
      "page: 2\n",
      "https://serpapi.com/search\n",
      "https://serpapi.com/search\n",
      "page: 3\n",
      "https://serpapi.com/search\n",
      "https://serpapi.com/search\n",
      "page: 4\n",
      "https://serpapi.com/search\n",
      "https://serpapi.com/search\n",
      "page: 5\n",
      "https://serpapi.com/search\n",
      "https://serpapi.com/search\n",
      "Running grid: 7\n",
      "page: 0\n",
      "https://serpapi.com/search\n",
      "https://serpapi.com/search\n",
      "page: 1\n",
      "https://serpapi.com/search\n",
      "https://serpapi.com/search\n",
      "page: 2\n",
      "https://serpapi.com/search\n",
      "https://serpapi.com/search\n",
      "page: 3\n",
      "https://serpapi.com/search\n",
      "https://serpapi.com/search\n",
      "page: 4\n",
      "https://serpapi.com/search\n",
      "https://serpapi.com/search\n",
      "page: 5\n",
      "https://serpapi.com/search\n",
      "https://serpapi.com/search\n",
      "Running grid: 8\n",
      "page: 0\n",
      "https://serpapi.com/search\n",
      "https://serpapi.com/search\n",
      "page: 1\n",
      "https://serpapi.com/search\n",
      "https://serpapi.com/search\n",
      "page: 2\n",
      "https://serpapi.com/search\n",
      "https://serpapi.com/search\n",
      "page: 3\n",
      "https://serpapi.com/search\n",
      "https://serpapi.com/search\n",
      "page: 4\n",
      "https://serpapi.com/search\n",
      "https://serpapi.com/search\n",
      "page: 5\n",
      "https://serpapi.com/search\n",
      "https://serpapi.com/search\n",
      "Running grid: 9\n",
      "page: 0\n",
      "https://serpapi.com/search\n",
      "https://serpapi.com/search\n",
      "page: 1\n",
      "https://serpapi.com/search\n",
      "https://serpapi.com/search\n",
      "page: 2\n",
      "https://serpapi.com/search\n",
      "https://serpapi.com/search\n",
      "page: 3\n",
      "https://serpapi.com/search\n",
      "https://serpapi.com/search\n",
      "page: 4\n",
      "https://serpapi.com/search\n",
      "https://serpapi.com/search\n",
      "page: 5\n",
      "https://serpapi.com/search\n",
      "https://serpapi.com/search\n",
      "Running grid: 10\n",
      "page: 0\n",
      "https://serpapi.com/search\n",
      "https://serpapi.com/search\n",
      "page: 1\n",
      "https://serpapi.com/search\n",
      "https://serpapi.com/search\n",
      "page: 2\n",
      "https://serpapi.com/search\n",
      "https://serpapi.com/search\n",
      "page: 3\n",
      "https://serpapi.com/search\n",
      "https://serpapi.com/search\n",
      "page: 4\n",
      "https://serpapi.com/search\n",
      "https://serpapi.com/search\n",
      "page: 5\n",
      "https://serpapi.com/search\n",
      "https://serpapi.com/search\n",
      "Running grid: 11\n",
      "page: 0\n",
      "https://serpapi.com/search\n",
      "https://serpapi.com/search\n",
      "page: 1\n",
      "https://serpapi.com/search\n",
      "https://serpapi.com/search\n",
      "page: 2\n",
      "https://serpapi.com/search\n",
      "https://serpapi.com/search\n",
      "page: 3\n",
      "https://serpapi.com/search\n",
      "https://serpapi.com/search\n",
      "page: 4\n",
      "https://serpapi.com/search\n",
      "https://serpapi.com/search\n",
      "page: 5\n",
      "https://serpapi.com/search\n",
      "https://serpapi.com/search\n",
      "Running grid: 12\n",
      "page: 0\n",
      "https://serpapi.com/search\n",
      "https://serpapi.com/search\n",
      "page: 1\n",
      "https://serpapi.com/search\n",
      "https://serpapi.com/search\n",
      "page: 2\n",
      "https://serpapi.com/search\n",
      "https://serpapi.com/search\n",
      "page: 3\n",
      "https://serpapi.com/search\n",
      "https://serpapi.com/search\n",
      "page: 4\n",
      "https://serpapi.com/search\n",
      "https://serpapi.com/search\n",
      "page: 5\n",
      "https://serpapi.com/search\n",
      "https://serpapi.com/search\n",
      "Running grid: 13\n",
      "page: 0\n",
      "https://serpapi.com/search\n",
      "https://serpapi.com/search\n",
      "page: 1\n",
      "https://serpapi.com/search\n",
      "https://serpapi.com/search\n",
      "page: 2\n",
      "https://serpapi.com/search\n",
      "https://serpapi.com/search\n",
      "page: 3\n",
      "https://serpapi.com/search\n",
      "https://serpapi.com/search\n",
      "page: 4\n",
      "https://serpapi.com/search\n",
      "https://serpapi.com/search\n",
      "page: 5\n",
      "https://serpapi.com/search\n",
      "https://serpapi.com/search\n",
      "Running grid: 14\n",
      "page: 0\n",
      "https://serpapi.com/search\n",
      "https://serpapi.com/search\n",
      "page: 1\n",
      "https://serpapi.com/search\n",
      "https://serpapi.com/search\n",
      "page: 2\n",
      "https://serpapi.com/search\n",
      "https://serpapi.com/search\n",
      "page: 3\n",
      "https://serpapi.com/search\n",
      "https://serpapi.com/search\n",
      "page: 4\n",
      "https://serpapi.com/search\n",
      "https://serpapi.com/search\n",
      "page: 5\n",
      "https://serpapi.com/search\n",
      "https://serpapi.com/search\n",
      "Running grid: 15\n",
      "page: 0\n",
      "https://serpapi.com/search\n",
      "https://serpapi.com/search\n",
      "page: 1\n",
      "https://serpapi.com/search\n",
      "https://serpapi.com/search\n",
      "page: 2\n",
      "https://serpapi.com/search\n",
      "https://serpapi.com/search\n",
      "page: 3\n",
      "https://serpapi.com/search\n",
      "https://serpapi.com/search\n",
      "page: 4\n",
      "https://serpapi.com/search\n",
      "https://serpapi.com/search\n",
      "page: 5\n",
      "https://serpapi.com/search\n",
      "https://serpapi.com/search\n",
      "Running grid: 16\n",
      "page: 0\n",
      "https://serpapi.com/search\n",
      "https://serpapi.com/search\n",
      "page: 1\n",
      "https://serpapi.com/search\n",
      "https://serpapi.com/search\n",
      "page: 2\n",
      "https://serpapi.com/search\n",
      "https://serpapi.com/search\n",
      "page: 3\n",
      "https://serpapi.com/search\n",
      "https://serpapi.com/search\n",
      "page: 4\n",
      "https://serpapi.com/search\n",
      "https://serpapi.com/search\n",
      "page: 5\n",
      "https://serpapi.com/search\n",
      "https://serpapi.com/search\n"
     ]
    }
   ],
   "source": [
    "params: dict[str, Union[str, int]] = {\n",
    "    \"api_key\": os.getenv(\"SERP_API_KEY\"),\n",
    "    \"device\": \"desktop\",\n",
    "    \"engine\": \"google_maps\",\n",
    "    \"type\": \"search\",\n",
    "    \"google_domain\": \"google.se\",\n",
    "    \"q\": \"Retauranger göteborg\",\n",
    "    \"hl\": \"sv\",\n",
    "    \"ll\": \"@57.685,11.905,16z\", # This is what we'll modify in the loops below\n",
    "    \"gl\": \"se\",\n",
    "    \"start\": 0, # As well as this\n",
    "}\n",
    "\n",
    "df = pd.DataFrame()\n",
    "\n",
    "for grid, coord in enumerate(combos_coord_list):\n",
    "    print(f\"Running grid: {grid + 1}\")\n",
    "    params[\"ll\"]: str = f\"@{coord[0]},{coord[1]},16z\"\n",
    "\n",
    "    for start_num in range(0, 120, 20):\n",
    "        print(f\"page: {int(start_num/20)}\")\n",
    "        if start_num == 0:\n",
    "            params[\"start\"]: int = start_num\n",
    "            search: serpapi.google_search.GoogleSearch = GoogleSearch(params)\n",
    "            results: dict = search.get_dict()\n",
    "            try:\n",
    "                df: pd.DataFrame = pd.concat(\n",
    "                    [df, pd.DataFrame(search.get_dict()[\"local_results\"])]\n",
    "                )\n",
    "            except Exception:\n",
    "                print(\"An exception was raised\")\n",
    "                continue\n",
    "\n",
    "        elif (\n",
    "            \"serpapi_pagination\" in results\n",
    "            and \"next\" in results[\"serpapi_pagination\"]\n",
    "            and \"local_results\" in results\n",
    "            and results.get(\"local_results\") is not None\n",
    "        ):\n",
    "            params[\"start\"]: int = start_num\n",
    "            search: serpapi.google_search.GoogleSearch = GoogleSearch(params)\n",
    "            results: dict = search.get_dict()\n",
    "            try:\n",
    "                df: pd.DataFrame = pd.concat(\n",
    "                    [df, pd.DataFrame(search.get_dict()[\"local_results\"])]\n",
    "                )\n",
    "            except Exception:\n",
    "                print(\"An exception was raised\")\n",
    "                continue\n",
    "        else:\n",
    "            print(\"loop was broken\")\n",
    "            break"
   ]
  },
  {
   "cell_type": "code",
   "execution_count": 35,
   "metadata": {},
   "outputs": [
    {
     "data": {
      "text/plain": [
       "(576, 26)"
      ]
     },
     "execution_count": 35,
     "metadata": {},
     "output_type": "execute_result"
    }
   ],
   "source": [
    "df.drop_duplicates(subset=[\"title\", \"place_id\"]).shape"
   ]
  },
  {
   "cell_type": "code",
   "execution_count": 38,
   "metadata": {},
   "outputs": [
    {
     "data": {
      "text/plain": [
       "False"
      ]
     },
     "execution_count": 38,
     "metadata": {},
     "output_type": "execute_result"
    }
   ],
   "source": [
    "\"Jaipur\" in df.title"
   ]
  },
  {
   "cell_type": "code",
   "execution_count": 40,
   "metadata": {},
   "outputs": [],
   "source": [
    "# check if a value is in a column\n",
    "\n",
    "df: pd.DataFrame = df.drop_duplicates(subset=[\"title\", \"place_id\"])"
   ]
  },
  {
   "cell_type": "code",
   "execution_count": 43,
   "metadata": {},
   "outputs": [],
   "source": [
    "df_sorted = df.sort_values(by=[\"rating\", \"reviews\"], ascending=False)"
   ]
  }
 ],
 "metadata": {
  "kernelspec": {
   "display_name": "Python 3.10.4 ('py310')",
   "language": "python",
   "name": "python3"
  },
  "language_info": {
   "codemirror_mode": {
    "name": "ipython",
    "version": 3
   },
   "file_extension": ".py",
   "mimetype": "text/x-python",
   "name": "python",
   "nbconvert_exporter": "python",
   "pygments_lexer": "ipython3",
   "version": "3.10.4"
  },
  "orig_nbformat": 4,
  "vscode": {
   "interpreter": {
    "hash": "1f0c7602c82e39efa19a01e5e068584db7a6d17aff8711ab06660aac81377393"
   }
  }
 },
 "nbformat": 4,
 "nbformat_minor": 2
}
